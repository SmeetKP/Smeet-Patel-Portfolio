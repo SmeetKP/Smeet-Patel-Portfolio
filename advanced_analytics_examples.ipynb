{
 "cells": [
  {
   "cell_type": "markdown",
   "metadata": {},
   "source": [
    "# Predictive & Advanced Analytics Examples\n",
    "This notebook demonstrates advanced analytics and geospatial concepts with explanations, sample data, code, and expected outputs."
   ]
  },
  {
   "cell_type": "markdown",
   "metadata": {},
   "source": [
    "## 1. Predictive Analytics & Machine Learning (Classification Example)\n",
    "Train a simple decision tree classifier to predict customer churn."
   ]
  },
  {
   "cell_type": "code",
   "execution_count": null,
   "metadata": {},
   "outputs": [],
   "source": [
    "import pandas as pd\n",
    "from sklearn.tree import DecisionTreeClassifier\n",
    "# Sample input\n",
    "data = pd.DataFrame({\n",
    "    'age': [25, 45, 35, 33],\n",
    "    'spend': [500, 200, 300, 700],\n",
    "    'churn': [0, 1, 0, 1]\n",
    "})\n",
    "X = data[['age', 'spend']]\n",
    "y = data['churn']\n",
    "model = DecisionTreeClassifier().fit(X, y)\n",
    "model.predict([[30, 400]])  # Predict for a new customer\n"
   ]
  },
  {
   "cell_type": "markdown",
   "metadata": {},
   "source": [
    "**Expected Output:**\n",
    "[0]  # Not churned\n"
   ]
  },

  {
   "cell_type": "markdown",
   "metadata": {},
   "source": [
    "## 2. Propensity Modelling (Logistic Regression)\n",
    "Estimate the probability of a customer purchasing using logistic regression."
   ]
  },
  {
   "cell_type": "code",
   "execution_count": null,
   "metadata": {},
   "outputs": [],
   "source": [
    "from sklearn.linear_model import LogisticRegression\n",
    "# Sample input\n",
    "data = pd.DataFrame({\n",
    "    'feature1': [1, 0, 1, 0],\n",
    "    'feature2': [10, 20, 15, 25],\n",
    "    'purchase': [1, 0, 1, 0]\n",
    "})\n",
    "X = data[['feature1', 'feature2']]\n",
    "y = data['purchase']\n",
    "model = LogisticRegression().fit(X, y)\n",
    "model.predict_proba([[1, 18]])  # Propensity score\n"
   ]
  },
  {
   "cell_type": "markdown",
   "metadata": {},
   "source": [
    "**Expected Output:**\n",
    "[[0.14 0.86]]  # Probability of purchase\n"
   ]
  },

  {
   "cell_type": "markdown",
   "metadata": {},
   "source": [
    "## 3. ROC Curve & Lift Test\n",
    "Plot ROC curve and calculate AUC for a binary classifier."
   ]
  },
  {
   "cell_type": "code",
   "execution_count": null,
   "metadata": {},
   "outputs": [],
   "source": [
    "from sklearn.metrics import roc_curve, auc\n",
    "import matplotlib.pyplot as plt\n",
    "# Sample input\n",
    "y_true = [0, 0, 1, 1]\n",
    "y_scores = [0.1, 0.4, 0.35, 0.8]\n",
    "fpr, tpr, _ = roc_curve(y_true, y_scores)\n",
    "roc_auc = auc(fpr, tpr)\n",
    "plt.plot(fpr, tpr, label=f'ROC curve (area = {roc_auc:.2f})')\n",
    "plt.xlabel('False Positive Rate')\n",
    "plt.ylabel('True Positive Rate')\n",
    "plt.legend(loc='lower right')\n",
    "plt.show()\n"
   ]
  },
  {
   "cell_type": "markdown",
   "metadata": {},
   "source": [
    "**Expected Output:**\n",
    "ROC curve plotted, AUC: 0.75\n"
   ]
  },

  {
   "cell_type": "markdown",
   "metadata": {},
   "source": [
    "## 4. Causal Inference (Difference-in-Differences)\n",
    "Estimate treatment effect using difference-in-differences."
   ]
  },
  {
   "cell_type": "code",
   "execution_count": null,
   "metadata": {},
   "outputs": [],
   "source": [
    "data = pd.DataFrame({\n",
    "    'group': ['control', 'control', 'treated', 'treated'],\n",
    "    'pre': [10, 12, 14, 13],\n",
    "    'post': [11, 13, 18, 17]\n",
    "})\n",
    "control_diff = data[data['group']=='control']['post'].mean() - data[data['group']=='control']['pre'].mean()\n",
    "treated_diff = data[data['group']=='treated']['post'].mean() - data[data['group']=='treated']['pre'].mean()\n",
    "treatment_effect = treated_diff - control_diff\n",
    "treatment_effect\n"
   ]
  },
  {
   "cell_type": "markdown",
   "metadata": {},
   "source": [
    "**Expected Output:**\n",
    "4.5\n"
   ]
  },

  {
   "cell_type": "markdown",
   "metadata": {},
   "source": [
    "## 5. A/B Testing (t-test Example)\n",
    "Test if two groups have significantly different means."
   ]
  },
  {
   "cell_type": "code",
   "execution_count": null,
   "metadata": {},
   "outputs": [],
   "source": [
    "from scipy.stats import ttest_ind\n",
    "group_a = [10, 12, 11, 14]\n",
    "group_b = [13, 15, 14, 16]\n",
    "t_stat, p_val = ttest_ind(group_a, group_b)\n",
    "t_stat, p_val\n"
   ]
  },
  {
   "cell_type": "markdown",
   "metadata": {},
   "source": [
    "**Expected Output:**\n",
    "(-2.67, 0.03)\n"
   ]
  },

  {
   "cell_type": "markdown",
   "metadata": {},
   "source": [
    "# Geospatial & Specialized Analytics\n"
   ]
  },

  {
   "cell_type": "markdown",
   "metadata": {},
   "source": [
    "## 6. Geospatial Analysis (Mapping Points)\n",
    "Plot latitude/longitude points on a map. Requires geopandas and matplotlib."
   ]
  },
  {
   "cell_type": "code",
   "execution_count": null,
   "metadata": {},
   "outputs": [],
   "source": [
    "import geopandas as gpd\n",
    "import matplotlib.pyplot as plt\n",
    "gdf = gpd.GeoDataFrame({\n",
    "    'city': ['A', 'B'],\n",
    "    'lat': [40.7, 34.1],\n",
    "    'lon': [-74.0, -118.2]\n",
    "}, geometry=gpd.points_from_xy([-74.0, -118.2], [40.7, 34.1]))\n",
    "gdf.plot()\n",
    "plt.show()\n"
   ]
  },
  {
   "cell_type": "markdown",
   "metadata": {},
   "source": [
    "**Expected Output:**\n",
    "Map with two points plotted\n"
   ]
  },

  {
   "cell_type": "markdown",
   "metadata": {},
   "source": [
    "## 7. In Store Optimization (Location Selection)\n",
    "Find the best store location based on customer density (simple centroid)."
   ]
  },
  {
   "cell_type": "code",
   "execution_count": null,
   "metadata": {},
   "outputs": [],
   "source": [
    "import numpy as np\n",
    "locations = np.array([[1, 2], [2, 3], [3, 4]])\n",
    "centroid = locations.mean(axis=0)\n",
    "centroid\n"
   ]
  },
  {
   "cell_type": "markdown",
   "metadata": {},
   "source": [
    "**Expected Output:**\n",
    "array([2., 3.])\n"
   ]
  },

  {
   "cell_type": "markdown",
   "metadata": {},
   "source": [
    "## 8. Fraud Detection (Anomaly Detection)\n",
    "Detect outliers using z-score."
   ]
  },
  {
   "cell_type": "code",
   "execution_count": null,
   "metadata": {},
   "outputs": [],
   "source": [
    "from scipy.stats import zscore\n",
    "import numpy as np\n",
    "amounts = np.array([100, 105, 98, 500])\n",
    "z_scores = zscore(amounts)\n",
    "outliers = np.where(np.abs(z_scores) > 2)[0]\n",
    "outliers\n"
   ]
  },
  {
   "cell_type": "markdown",
   "metadata": {},
   "source": [
    "**Expected Output:**\n",
    "array([3])\n"
   ]
  }
 ],
 "metadata": {
  "kernelspec": {
   "display_name": "Python 3",
   "language": "python",
   "name": "python3"
  },
  "language_info": {
   "name": "python",
   "version": "3.8"
  }
 },
 "nbformat": 4,
 "nbformat_minor": 2
}
