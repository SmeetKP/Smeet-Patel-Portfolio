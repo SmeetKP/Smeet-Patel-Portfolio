{
 "cells": [
  {
   "cell_type": "markdown",
   "metadata": {},
   "source": [
    "# CRM & Marketing Analytics Examples\n",
    "This notebook demonstrates key CRM & Marketing analytics concepts with explanations, sample data, code, and expected outputs."
   ]
  },
  {
   "cell_type": "markdown",
   "metadata": {},
   "source": [
    "## 1. Braze CRM (User Segmentation)\n",
    "Segment engaged users for a campaign based on opt-in and recent activity."
   ]
  },
  {
   "cell_type": "code",
   "execution_count": null,
   "metadata": {},
   "outputs": [],
   "source": [
    "import pandas as pd\n",
    "# Sample input: user data\n",
    "users = pd.DataFrame({\n",
    "    'user_id': [1, 2, 3, 4],\n",
    "    'email_opt_in': [True, False, True, True],\n",
    "    'last_active_days': [2, 45, 10, 5]\n",
    "})\n",
    "# Segment engaged users\n",
    "engaged = users[(users['email_opt_in']) & (users['last_active_days'] < 30)]\n",
    "engaged"
   ]
  },
  {
   "cell_type": "markdown",
   "metadata": {},
   "source": [
    "**Expected Output:**\n",
    "| user_id | email_opt_in | last_active_days |\n",
    "|---------|--------------|------------------|\n",
    "| 1       | True         | 2                |\n",
    "| 3       | True         | 10               |\n",
    "| 4       | True         | 5                |\n"
   ]
  },

  {
   "cell_type": "markdown",
   "metadata": {},
   "source": [
    "## 2. Customer Acquisition & Value Creation\n",
    "Calculate new customer count and total value by acquisition channel."
   ]
  },
  {
   "cell_type": "code",
   "execution_count": null,
   "metadata": {},
   "outputs": [],
   "source": [
    "acq = pd.DataFrame({\n",
    "    'channel': ['Organic', 'Ads', 'Referral'],\n",
    "    'new_customers': [100, 150, 50],\n",
    "    'avg_order_value': [50, 40, 60]\n",
    "})\n",
    "acq['total_value'] = acq['new_customers'] * acq['avg_order_value']\n",
    "acq"
   ]
  },
  {
   "cell_type": "markdown",
   "metadata": {},
   "source": [
    "**Expected Output:**\n",
    "| channel  | new_customers | avg_order_value | total_value |\n",
    "|----------|---------------|-----------------|-------------|\n",
    "| Organic  | 100           | 50              | 5000        |\n",
    "| Ads      | 150           | 40              | 6000        |\n",
    "| Referral | 50            | 60              | 3000        |\n"
   ]
  },

  {
   "cell_type": "markdown",
   "metadata": {},
   "source": [
    "## 3. Customer Penetration\n",
    "Calculate product penetration rate among your customer base."
   ]
  },
  {
   "cell_type": "code",
   "execution_count": null,
   "metadata": {},
   "outputs": [],
   "source": [
    "penetration = pd.DataFrame({\n",
    "    'product': ['A', 'B'],\n",
    "    'customers': [120, 80],\n",
    "    'total_customers': [200, 200]\n",
    "})\n",
    "penetration['penetration_rate'] = penetration['customers'] / penetration['total_customers']\n",
    "penetration"
   ]
  },
  {
   "cell_type": "markdown",
   "metadata": {},
   "source": [
    "**Expected Output:**\n",
    "| product | customers | total_customers | penetration_rate |\n",
    "|---------|-----------|-----------------|------------------|\n",
    "| A       | 120       | 200             | 0.6              |\n",
    "| B       | 80        | 200             | 0.4              |\n"
   ]
  },

  {
   "cell_type": "markdown",
   "metadata": {},
   "source": [
    "## 4. Customer Loyalty (Repeat Purchase Rate)\n",
    "Calculate the proportion of customers with repeat purchases."
   ]
  },
  {
   "cell_type": "code",
   "execution_count": null,
   "metadata": {},
   "outputs": [],
   "source": [
    "purchases = pd.DataFrame({\n",
    "    'customer_id': [1, 2, 3, 4, 5],\n",
    "    'repeat_purchases': [2, 0, 3, 1, 4]\n",
    "})\n",
    "loyal_customers = purchases[purchases['repeat_purchases'] > 1]\n",
    "loyalty_rate = len(loyal_customers) / len(purchases)\n",
    "loyalty_rate"
   ]
  },
  {
   "cell_type": "markdown",
   "metadata": {},
   "source": [
    "**Expected Output:**\n",
    "0.6\n"
   ]
  },

  {
   "cell_type": "markdown",
   "metadata": {},
   "source": [
    "## 5. Churn Management (Churn Rate)\n",
    "Calculate churn rate based on customer activity."
   ]
  },
  {
   "cell_type": "code",
   "execution_count": null,
   "metadata": {},
   "outputs": [],
   "source": [
    "churn = pd.DataFrame({\n",
    "    'customer_id': [1, 2, 3, 4, 5],\n",
    "    'is_active': [True, False, True, False, True]\n",
    "})\n",
    "churn_rate = 1 - churn['is_active'].mean()\n",
    "churn_rate"
   ]
  },
  {
   "cell_type": "markdown",
   "metadata": {},
   "source": [
    "**Expected Output:**\n",
    "0.4\n"
   ]
  },

  {
   "cell_type": "markdown",
   "metadata": {},
   "source": [
    "## 6. CLTV (Customer Lifetime Value)\n",
    "Estimate CLTV for each customer."
   ]
  },
  {
   "cell_type": "code",
   "execution_count": null,
   "metadata": {},
   "outputs": [],
   "source": [
    "cltv = pd.DataFrame({\n",
    "    'customer_id': [1, 2, 3],\n",
    "    'avg_purchase_value': [100, 150, 120],\n",
    "    'purchase_frequency': [2, 3, 1],\n",
    "    'avg_customer_lifespan': [5, 4, 6]\n",
    "})\n",
    "cltv['CLTV'] = cltv['avg_purchase_value'] * cltv['purchase_frequency'] * cltv['avg_customer_lifespan']\n",
    "cltv[['customer_id', 'CLTV']]"
   ]
  },
  {
   "cell_type": "markdown",
   "metadata": {},
   "source": [
    "**Expected Output:**\n",
    "| customer_id | CLTV |\n",
    "|-------------|------|\n",
    "| 1           | 1000 |\n",
    "| 2           | 1800 |\n",
    "| 3           | 720  |\n"
   ]
  },

  {
   "cell_type": "markdown",
   "metadata": {},
   "source": [
    "## 7. Upsell & Cross Sell Analytics (Attach Rate)\n",
    "Calculate attach rate for upsell products."
   ]
  },
  {
   "cell_type": "code",
   "execution_count": null,
   "metadata": {},
   "outputs": [],
   "source": [
    "sales = pd.DataFrame({\n",
    "    'order_id': [1, 2, 3, 4],\n",
    "    'main_product': [True, True, True, True],\n",
    "    'upsell_product': [True, False, True, False]\n",
    "})\n",
    "attach_rate = sales['upsell_product'].mean()\n",
    "attach_rate"
   ]
  },
  {
   "cell_type": "markdown",
   "metadata": {},
   "source": [
    "**Expected Output:**\n",
    "0.5\n"
   ]
  },

  {
   "cell_type": "markdown",
   "metadata": {},
   "source": [
    "## 8. NPS (Net Promoter Score)\n",
    "Calculate NPS from survey scores."
   ]
  },
  {
   "cell_type": "code",
   "execution_count": null,
   "metadata": {},
   "outputs": [],
   "source": [
    "nps = pd.DataFrame({'score': [10, 9, 8, 7, 6, 5, 10, 2, 9, 8]})\n",
    "promoters = (nps['score'] >= 9).sum()\n",
    "detractors = (nps['score'] <= 6).sum()\n",
    "total = len(nps)\n",
    "nps_score = ((promoters - detractors) / total) * 100\n",
    "nps_score"
   ]
  },
  {
   "cell_type": "markdown",
   "metadata": {},
   "source": [
    "**Expected Output:**\n",
    "20.0\n"
   ]
  }
 ],
 "metadata": {
  "kernelspec": {
   "display_name": "Python 3",
   "language": "python",
   "name": "python3"
  },
  "language_info": {
   "name": "python",
   "version": "3.8"
  }
 },
 "nbformat": 4,
 "nbformat_minor": 2
}
