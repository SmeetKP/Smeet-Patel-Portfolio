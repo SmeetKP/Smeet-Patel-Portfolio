{
 "cells": [
  {
   "cell_type": "markdown",
   "metadata": {},
   "source": [
    "# CRM & Marketing Analytics: User-Friendly Examples\n",
    "This notebook demonstrates key CRM & Marketing analytics concepts using realistic, easy-to-read data. Each section contains:\n",
    "- A clear explanation of the concept\n",
    "- Sample input data (displayed as a DataFrame)\n",
    "- Step-by-step code with comments\n",
    "- Output shown with print/display\n"
   ]
  },
  {
   "cell_type": "markdown",
   "metadata": {},
   "source": [
    "## 1. Braze CRM (User Segmentation)\n",
    "**Goal:** Segment engaged users for a campaign based on opt-in and recent activity."
   ]
  },
  {
   "cell_type": "code",
   "execution_count": null,
   "metadata": {},
   "outputs": [],
   "source": [
    "import pandas as pd\n",
    "# Sample user data\n",
    "users = pd.DataFrame({\n",
    "    'User ID': [101, 102, 103, 104],\n",
    "    'Email Opt-In': [True, False, True, True],\n",
    "    'Last Active (days ago)': [2, 45, 10, 5]\n",
    "})\n",
    "# Display input data\n",
    "display(users)\n",
    "# Segment engaged users: opted-in and active in last 30 days\n",
    "engaged = users[(users['Email Opt-In']) & (users['Last Active (days ago)'] < 30)]\n",
    "print('Engaged Users:')\n",
    "display(engaged)"
   ]
  },
  {
   "cell_type": "markdown",
   "metadata": {},
   "source": [
    "---\n",
    "## 2. Customer Acquisition & Value Creation\n",
    "**Goal:** Calculate new customer count and total value by acquisition channel."
   ]
  },
  {
   "cell_type": "code",
   "execution_count": null,
   "metadata": {},
   "outputs": [],
   "source": [
    "# Sample acquisition data\n",
    "acq = pd.DataFrame({\n",
    "    'Channel': ['Organic', 'Ads', 'Referral'],\n",
    "    'New Customers': [100, 150, 50],\n",
    "    'Avg Order Value ($)': [50, 40, 60]\n",
    "})\n",
    "display(acq)\n",
    "# Calculate total value per channel\n",
    "acq['Total Value ($)'] = acq['New Customers'] * acq['Avg Order Value ($)']\n",
    "print('Customer Value by Channel:')\n",
    "display(acq)"
   ]
  },
  {
   "cell_type": "markdown",
   "metadata": {},
   "source": [
    "---\n",
    "## 3. Customer Penetration\n",
    "**Goal:** Calculate product penetration rate among your customer base."
   ]
  },
  {
   "cell_type": "code",
   "execution_count": null,
   "metadata": {},
   "outputs": [],
   "source": [
    "# Sample penetration data\n",
    "penetration = pd.DataFrame({\n",
    "    'Product': ['A', 'B'],\n",
    "    'Customers': [120, 80],\n",
    "    'Total Customers': [200, 200]\n",
    "})\n",
    "display(penetration)\n",
    "# Calculate penetration rate\n",
    "penetration['Penetration Rate'] = penetration['Customers'] / penetration['Total Customers']\n",
    "print('Product Penetration Rate:')\n",
    "display(penetration[['Product', 'Penetration Rate']])"
   ]
  },
  {
   "cell_type": "markdown",
   "metadata": {},
   "source": [
    "---\n",
    "## 4. Customer Loyalty (Repeat Purchase Rate)\n",
    "**Goal:** Calculate the proportion of customers with repeat purchases."
   ]
  },
  {
   "cell_type": "code",
   "execution_count": null,
   "metadata": {},
   "outputs": [],
   "source": [
    "# Sample purchase history\n",
    "purchases = pd.DataFrame({\n",
    "    'Customer ID': [1, 2, 3, 4, 5],\n",
    "    'Repeat Purchases': [2, 0, 3, 1, 4]\n",
    "})\n",
    "display(purchases)\n",
    "# Loyalty: customers with >1 repeat purchase\n",
    "loyal_customers = purchases[purchases['Repeat Purchases'] > 1]\n",
    "loyalty_rate = len(loyal_customers) / len(purchases)\n",
    "print(f'Loyalty Rate: {loyalty_rate:.2%}')"
   ]
  },
  {
   "cell_type": "markdown",
   "metadata": {},
   "source": [
    "---\n",
    "## 5. Churn Management (Churn Rate)\n",
    "**Goal:** Calculate churn rate based on customer activity."
   ]
  },
  {
   "cell_type": "code",
   "execution_count": null,
   "metadata": {},
   "outputs": [],
   "source": [
    "# Sample churn data\n",
    "churn = pd.DataFrame({\n",
    "    'Customer ID': [1, 2, 3, 4, 5],\n",
    "    'Is Active': [True, False, True, False, True]\n",
    "})\n",
    "display(churn)\n",
    "churn_rate = 1 - churn['Is Active'].mean()\n",
    "print(f'Churn Rate: {churn_rate:.2%}')"
   ]
  },
  {
   "cell_type": "markdown",
   "metadata": {},
   "source": [
    "---\n",
    "## 6. CLTV (Customer Lifetime Value)\n",
    "**Goal:** Estimate CLTV for each customer."
   ]
  },
  {
   "cell_type": "code",
   "execution_count": null,
   "metadata": {},
   "outputs": [],
   "source": [
    "# Sample CLTV data\n",
    "cltv = pd.DataFrame({\n",
    "    'Customer ID': [1, 2, 3],\n",
    "    'Avg Purchase Value ($)': [100, 150, 120],\n",
    "    'Purchase Frequency': [2, 3, 1],\n",
    "    'Avg Customer Lifespan (years)': [5, 4, 6]\n",
    "})\n",
    "display(cltv)\n",
    "cltv['CLTV ($)'] = cltv['Avg Purchase Value ($)'] * cltv['Purchase Frequency'] * cltv['Avg Customer Lifespan (years)']\n",
    "print('CLTV per Customer:')\n",
    "display(cltv[['Customer ID', 'CLTV ($)']])"
   ]
  },
  {
   "cell_type": "markdown",
   "metadata": {},
   "source": [
    "---\n",
    "## 7. Upsell & Cross Sell Analytics (Attach Rate)\n",
    "**Goal:** Calculate attach rate for upsell products."
   ]
  },
  {
   "cell_type": "code",
   "execution_count": null,
   "metadata": {},
   "outputs": [],
   "source": [
    "# Sample sales data\n",
    "sales = pd.DataFrame({\n",
    "    'Order ID': [1, 2, 3, 4],\n",
    "    'Main Product Sold': [True, True, True, True],\n",
    "    'Upsell Product Sold': [True, False, True, False]\n",
    "})\n",
    "display(sales)\n",
    "attach_rate = sales['Upsell Product Sold'].mean()\n",
    "print(f'Upsell Attach Rate: {attach_rate:.0%}')"
   ]
  },
  {
   "cell_type": "markdown",
   "metadata": {},
   "source": [
    "---\n",
    "## 8. NPS (Net Promoter Score)\n",
    "**Goal:** Calculate NPS from survey scores (0-10)."
   ]
  },
  {
   "cell_type": "code",
   "execution_count": null,
   "metadata": {},
   "outputs": [],
   "source": [
    "# Sample NPS survey responses\n",
    "nps = pd.DataFrame({'Score': [10, 9, 8, 7, 6, 5, 10, 2, 9, 8]})\n",
    "display(nps)\n",
    "promoters = (nps['Score'] >= 9).sum()\n",
    "detractors = (nps['Score'] <= 6).sum()\n",
    "total = len(nps)\n",
    "nps_score = ((promoters - detractors) / total) * 100\n",
    "print(f'NPS Score: {nps_score:.1f}')"
   ]
  }
 ],
 "metadata": {
  "kernelspec": {
   "display_name": "Python 3",
   "language": "python",
   "name": "python3"
  },
  "language_info": {
   "name": "python",
   "version": "3.8"
  }
 },
 "nbformat": 4,
 "nbformat_minor": 2
}
