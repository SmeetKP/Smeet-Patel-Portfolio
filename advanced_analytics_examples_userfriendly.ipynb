{
 "cells": [
  {
   "cell_type": "markdown",
   "metadata": {},
   "source": [
    "# Predictive & Advanced Analytics: User-Friendly Examples\n",
    "This notebook demonstrates predictive, advanced, and geospatial analytics concepts using clear data and step-by-step explanations.\n",
    "Each section includes:\n",
    "- A concept explanation\n",
    "- Sample input data (displayed as a DataFrame)\n",
    "- Step-by-step code with comments\n",
    "- Output shown with print/display\n"
   ]
  },
  {
   "cell_type": "markdown",
   "metadata": {},
   "source": [
    "## 1. Predictive Analytics & Machine Learning (Classification Example)\n",
    "**Goal:** Train a simple decision tree classifier to predict customer churn."
   ]
  },
  {
   "cell_type": "code",
   "execution_count": null,
   "metadata": {},
   "outputs": [],
   "source": [
    "import pandas as pd\n",
    "from sklearn.tree import DecisionTreeClassifier\n",
    "# Sample input\n",
    "data = pd.DataFrame({\n",
    "    'Age': [25, 45, 35, 33],\n",
    "    'Annual Spend ($)': [500, 200, 300, 700],\n",
    "    'Churned': [0, 1, 0, 1]\n",
    "})\n",
    "display(data)\n",
    "# Train model\n",
    "X = data[['Age', 'Annual Spend ($)']]\n",
    "y = data['Churned']\n",
    "model = DecisionTreeClassifier().fit(X, y)\n",
    "# Predict for a new customer\n",
    "prediction = model.predict([[30, 400]])\n",
    "print('Predicted Churn (0=No, 1=Yes):', prediction[0])"
   ]
  },
  {
   "cell_type": "markdown",
   "metadata": {},
   "source": [
    "---\n",
    "## 2. Propensity Modelling (Logistic Regression)\n",
    "**Goal:** Estimate the probability of a customer purchasing using logistic regression."
   ]
  },
  {
   "cell_type": "code",
   "execution_count": null,
   "metadata": {},
   "outputs": [],
   "source": [
    "from sklearn.linear_model import LogisticRegression\n",
    "# Sample input\n",
    "data = pd.DataFrame({\n",
    "    'Feature 1 (Email Clicked)': [1, 0, 1, 0],\n",
    "    'Feature 2 (Visits)': [10, 20, 15, 25],\n",
    "    'Purchased': [1, 0, 1, 0]\n",
    "})\n",
    "display(data)\n",
    "X = data[['Feature 1 (Email Clicked)', 'Feature 2 (Visits)']]\n",
    "y = data['Purchased']\n",
    "model = LogisticRegression().fit(X, y)\n",
    "# Propensity score for a new user\n",
    "score = model.predict_proba([[1, 18]])[0,1]\n",
    "print(f'Propensity to Purchase: {score:.2%}')"
   ]
  },
  {
   "cell_type": "markdown",
   "metadata": {},
   "source": [
    "---\n",
    "## 3. ROC Curve & Lift Test\n",
    "**Goal:** Plot ROC curve and calculate AUC for a binary classifier."
   ]
  },
  {
   "cell_type": "code",
   "execution_count": null,
   "metadata": {},
   "outputs": [],
   "source": [
    "from sklearn.metrics import roc_curve, auc\n",
    "import matplotlib.pyplot as plt\n",
    "# Sample input\n",
    "y_true = [0, 0, 1, 1]\n",
    "y_scores = [0.1, 0.4, 0.35, 0.8]\n",
    "fpr, tpr, _ = roc_curve(y_true, y_scores)\n",
    "roc_auc = auc(fpr, tpr)\n",
    "plt.figure(figsize=(5,4))\n",
    "plt.plot(fpr, tpr, label=f'ROC curve (AUC = {roc_auc:.2f})')\n",
    "plt.plot([0,1],[0,1],'k--')\n",
    "plt.xlabel('False Positive Rate')\n",
    "plt.ylabel('True Positive Rate')\n",
    "plt.title('ROC Curve')\n",
    "plt.legend(loc='lower right')\n",
    "plt.show()"
   ]
  },
  {
   "cell_type": "markdown",
   "metadata": {},
   "source": [
    "---\n",
    "## 4. Causal Inference (Difference-in-Differences)\n",
    "**Goal:** Estimate treatment effect using difference-in-differences."
   ]
  },
  {
   "cell_type": "code",
   "execution_count": null,
   "metadata": {},
   "outputs": [],
   "source": [
    "# Sample experiment data\n",
    "data = pd.DataFrame({\n",
    "    'Group': ['Control', 'Control', 'Treated', 'Treated'],\n",
    "    'Pre': [10, 12, 14, 13],\n",
    "    'Post': [11, 13, 18, 17]\n",
    "})\n",
    "display(data)\n",
    "control_diff = data[data['Group']=='Control']['Post'].mean() - data[data['Group']=='Control']['Pre'].mean()\n",
    "treated_diff = data[data['Group']=='Treated']['Post'].mean() - data[data['Group']=='Treated']['Pre'].mean()\n",
    "treatment_effect = treated_diff - control_diff\n",
    "print(f'Treatment Effect: {treatment_effect:.2f}')"
   ]
  },
  {
   "cell_type": "markdown",
   "metadata": {},
   "source": [
    "---\n",
    "## 5. A/B Testing (t-test Example)\n",
    "**Goal:** Test if two groups have significantly different means."
   ]
  },
  {
   "cell_type": "code",
   "execution_count": null,
   "metadata": {},
   "outputs": [],
   "source": [
    "from scipy.stats import ttest_ind\n",
    "# Sample group data\n",
    "group_a = [10, 12, 11, 14]\n",
    "group_b = [13, 15, 14, 16]\n",
    "print('Group A:', group_a)\n",
    "print('Group B:', group_b)\n",
    "t_stat, p_val = ttest_ind(group_a, group_b)\n",
    "print(f't-statistic: {t_stat:.2f}, p-value: {p_val:.3f}')"
   ]
  },
  {
   "cell_type": "markdown",
   "metadata": {},
   "source": [
    "---\n",
    "# Geospatial & Specialized Analytics\n"
   ]
  },
  {
   "cell_type": "markdown",
   "metadata": {},
   "source": [
    "## 6. Geospatial Analysis (Mapping Points)\n",
    "**Goal:** Plot latitude/longitude points on a map. Requires geopandas and matplotlib."
   ]
  },
  {
   "cell_type": "code",
   "execution_count": null,
   "metadata": {},
   "outputs": [],
   "source": [
    "import geopandas as gpd\n",
    "import matplotlib.pyplot as plt\n",
    "gdf = gpd.GeoDataFrame({\n",
    "    'City': ['A', 'B'],\n",
    "    'Latitude': [40.7, 34.1],\n",
    "    'Longitude': [-74.0, -118.2]\n",
    "}, geometry=gpd.points_from_xy([-74.0, -118.2], [40.7, 34.1]))\n",
    "display(gdf)\n",
    "gdf.plot(figsize=(5,5), color='blue', marker='o')\n",
    "plt.title('City Locations')\n",
    "plt.xlabel('Longitude')\n",
    "plt.ylabel('Latitude')\n",
    "plt.show()"
   ]
  },
  {
   "cell_type": "markdown",
   "metadata": {},
   "source": [
    "---\n",
    "## 7. In Store Optimization (Location Selection)\n",
    "**Goal:** Find the best store location based on customer density (simple centroid)."
   ]
  },
  {
   "cell_type": "code",
   "execution_count": null,
   "metadata": {},
   "outputs": [],
   "source": [
    "import numpy as np\n",
    "# Sample customer locations\n",
    "locations = np.array([[1, 2], [2, 3], [3, 4]])\n",
    "print('Customer Locations:')\n",
    "print(locations)\n",
    "centroid = locations.mean(axis=0)\n",
    "print('Optimal Store Location (centroid):', centroid)"
   ]
  },
  {
   "cell_type": "markdown",
   "metadata": {},
   "source": [
    "---\n",
    "## 8. Fraud Detection (Anomaly Detection)\n",
    "**Goal:** Detect outliers using z-score."
   ]
  },
  {
   "cell_type": "code",
   "execution_count": null,
   "metadata": {},
   "outputs": [],
   "source": [
    "from scipy.stats import zscore\n",
    "import numpy as np\n",
    "# Sample transaction amounts\n",
    "amounts = np.array([100, 105, 98, 500])\n",
    "print('Transaction Amounts:', amounts)\n",
    "z_scores = zscore(amounts)\n",
    "outliers = np.where(np.abs(z_scores) > 2)[0]\n",
    "print('Outlier Indices:', outliers)"
   ]
  }
 ],
 "metadata": {
  "kernelspec": {
   "display_name": "Python 3",
   "language": "python",
   "name": "python3"
  },
  "language_info": {
   "name": "python",
   "version": "3.8"
  }
 },
 "nbformat": 4,
 "nbformat_minor": 2
}
